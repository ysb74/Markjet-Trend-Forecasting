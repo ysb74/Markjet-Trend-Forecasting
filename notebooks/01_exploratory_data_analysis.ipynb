{
  "cells": [
    {
      "cell_type": "markdown",
      "metadata": {},
      "source": "# # Market Trend Forecasting - Exploratory Data Analysis\n# \n# This notebook provides a comprehensive exploratory data analysis (EDA) of the real estate market data used in our forecasting models.\n# \n# ## Table of Contents\n# 1. [Data Loading and Overview](#data-loading)\n# 2. [Data Quality Assessment](#data-quality)\n# 3. [Univariate Analysis](#univariate)\n# 4. [Bivariate Analysis](#bivariate)\n# 5. [Time Series Analysis](#time-series)\n# 6. [Feature Engineering Insights](#feature-engineering)\n# 7. [Advanced Visualizations](#advanced-viz)\n# 8. [Statistical Analysis](#statistical)\n# 9. [Market Insights](#market-insights)\n# 10. [Conclusions and Recommendations](#conclusions)"
    },
    {
      "cell_type": "code",
      "execution_count": null,
      "metadata": {},
      "outputs": [],
      "source": "# Import necessary libraries\nimport pandas as pd\nimport numpy as np\nimport matplotlib.pyplot as plt\nimport seaborn as sns\nimport plotly.express as px\nimport plotly.graph_objects as go\nfrom plotly.subplots import make_subplots\nimport warnings\nfrom datetime import datetime, timedelta\nfrom scipy import stats\nwarnings.filterwarnings('ignore')\n\n# Configure plotting\nplt.style.use('seaborn-v0_8')\nsns.set_palette(\"husl\")\npd.set_option('display.max_columns', None)\npd.set_option('display.max_rows', 100)\n\n# Import custom modules\nimport sys\nsys.path.append('../')\n\nfrom src.data.ingestion import load_crm_data_live\nfrom src.data.validation import DataQualityReport, TENANT_SCHEMA\nfrom src.utils.logger import get_logger\n\nlogger = get_logger(__name__)\n\nprint(\"📊 Libraries imported successfully!\")"
    },
    {
      "cell_type": "markdown",
      "metadata": {},
      "source": "# ## 1. Data Loading and Overview {#data-loading}"
    },
    {
      "cell_type": "code",
      "execution_count": null,
      "metadata": {},
      "outputs": [],
      "source": "# Load the data\ndf = load_crm_data_live()\n\n# Basic information about the dataset\nprint(\"📋 Dataset Overview:\")\nprint(f\"Shape: {df.shape}\")\nprint(f\"Columns: {list(df.columns)}\")\nprint(\"\\n📊 First few rows:\")\nprint(df.head())"
    },
    {
      "cell_type": "code",
      "execution_count": null,
      "metadata": {},
      "outputs": [],
      "source": "# Data types and basic statistics\nprint(\"🔍 Data Types:\")\nprint(df.dtypes)\nprint(\"\\n📈 Basic Statistics:\")\nprint(df.describe())"
    },
    {
      "cell_type": "markdown",
      "metadata": {},
      "source": "# ## 2. Data Quality Assessment {#data-quality}"
    },
    {
      "cell_type": "code",
      "execution_count": null,
      "metadata": {},
      "outputs": [],
      "source": "# Generate comprehensive data quality report\nquality_report = DataQualityReport(df)\nquality_report.generate_report()\nquality_report.print_summary()"
    },
    {
      "cell_type": "code",
      "execution_count": null,
      "metadata": {},
      "outputs": [],
      "source": "# Visualize missing data\nmissing_data = df.isnull().sum()\nmissing_data = missing_data[missing_data > 0]\n\nif len(missing_data) > 0:\n    fig, ax = plt.subplots(figsize=(10, 6))\n    missing_data.plot(kind='bar', ax=ax)\n    plt.title('Missing Data by Column')\n    plt.ylabel('Number of Missing Values')\n    plt.xticks(rotation=45)\n    plt.tight_layout()\n    plt.show()\nelse:\n    print(\"✅ No missing data found!\")"
    },
    {
      "cell_type": "markdown",
      "metadata": {},
      "source": "# ## 3. Univariate Analysis {#univariate}"
    },
    {
      "cell_type": "code",
      "execution_count": null,
      "metadata": {},
      "outputs": [],
      "source": "# Analyze numerical variables\nnumerical_cols = df.select_dtypes(include=[np.number]).columns\n\nfig, axes = plt.subplots(2, 2, figsize=(15, 10))\naxes = axes.ravel()\n\nfor i, col in enumerate(numerical_cols[:4]):\n    if i < len(axes):\n        df[col].hist(bins=30, ax=axes[i], alpha=0.7)\n        axes[i].set_title(f'Distribution of {col}')\n        axes[i].set_xlabel(col)\n        axes[i].set_ylabel('Frequency')\n\nplt.tight_layout()\nplt.show()"
    },
    {
      "cell_type": "code",
      "execution_count": null,
      "metadata": {},
      "outputs": [],
      "source": "# Box plots for outlier detection\nfig, axes = plt.subplots(2, 2, figsize=(15, 10))\naxes = axes.ravel()\n\nfor i, col in enumerate(numerical_cols[:4]):\n    if i < len(axes):\n        df.boxplot(column=col, ax=axes[i])\n        axes[i].set_title(f'Box Plot of {col}')\n\nplt.tight_layout()\nplt.show()"
    },
    {
      "cell_type": "code",
      "execution_count": null,
      "metadata": {},
      "outputs": [],
      "source": "# Analyze categorical variables\ncategorical_cols = df.select_dtypes(include=['object']).columns\n\nfor col in categorical_cols:\n    if df[col].nunique() < 20:  # Only show if not too many categories\n        plt.figure(figsize=(10, 6))\n        value_counts = df[col].value_counts()\n        plt.pie(value_counts.values, labels=value_counts.index, autopct='%1.1f%%')\n        plt.title(f'Distribution of {col}')\n        plt.show()"
    },
    {
      "cell_type": "markdown",
      "metadata": {},
      "source": "# ## 4. Bivariate Analysis {#bivariate}"
    },
    {
      "cell_type": "code",
      "execution_count": null,
      "metadata": {},
      "outputs": [],
      "source": "# Correlation analysis\ncorrelation_matrix = df.select_dtypes(include=[np.number]).corr()\n\nplt.figure(figsize=(12, 8))\nmask = np.triu(np.ones_like(correlation_matrix, dtype=bool))\nsns.heatmap(correlation_matrix, mask=mask, annot=True, cmap='coolwarm', center=0,\n            square=True, linewidths=0.5, cbar_kws={\"shrink\": .5})\nplt.title('Correlation Matrix of Numerical Features')\nplt.tight_layout()\nplt.show()"
    },
    {
      "cell_type": "code",
      "execution_count": null,
      "metadata": {},
      "outputs": [],
      "source": "# Scatter plots for key relationships\nif 'monthly_rent' in df.columns and 'payment_delays_last_6_months' in df.columns:\n    fig, axes = plt.subplots(1, 2, figsize=(15, 6))\n    \n    # Rent vs Payment Delays\n    axes[0].scatter(df['monthly_rent'], df['payment_delays_last_6_months'], alpha=0.6)\n    axes[0].set_xlabel('Monthly Rent')\n    axes[0].set_ylabel('Payment Delays (Last 6 Months)')\n    axes[0].set_title('Rent vs Payment Delays')\n    \n    # Rent vs Maintenance Requests\n    if 'maintenance_requests_last_year' in df.columns:\n        axes[1].scatter(df['monthly_rent'], df['maintenance_requests_last_year'], alpha=0.6)\n        axes[1].set_xlabel('Monthly Rent')\n        axes[1].set_ylabel('Maintenance Requests (Last Year)')\n        axes[1].set_title('Rent vs Maintenance Requests')\n    \n    plt.tight_layout()\n    plt.show()"
    },
    {
      "cell_type": "markdown",
      "metadata": {},
      "source": "# ## 5. Time Series Analysis {#time-series}"
    },
    {
      "cell_type": "code",
      "execution_count": null,
      "metadata": {},
      "outputs": [],
      "source": "# Convert date columns to datetime if they exist\ndate_columns = ['lease_start_date', 'lease_end_date']\nfor col in date_columns:\n    if col in df.columns:\n        df[col] = pd.to_datetime(df[col], errors='coerce')\n\n# Time series analysis of lease starts\nif 'lease_start_date' in df.columns:\n    # Group by month\n    monthly_leases = df.groupby(df['lease_start_date'].dt.to_period('M')).size()\n    \n    plt.figure(figsize=(12, 6))\n    monthly_leases.plot(kind='line', marker='o')\n    plt.title('Number of Lease Starts by Month')\n    plt.xlabel('Month')\n    plt.ylabel('Number of Leases')\n    plt.xticks(rotation=45)\n    plt.grid(True, alpha=0.3)\n    plt.tight_layout()\n    plt.show()\n    \n    # Average rent over time\n    if 'monthly_rent' in df.columns:\n        monthly_rent = df.groupby(df['lease_start_date'].dt.to_period('M'))['monthly_rent'].mean()\n        \n        plt.figure(figsize=(12, 6))\n        monthly_rent.plot(kind='line', marker='o', color='green')\n        plt.title('Average Monthly Rent Over Time')\n        plt.xlabel('Month')\n        plt.ylabel('Average Rent ($)')\n        plt.xticks(rotation=45)\n        plt.grid(True, alpha=0.3)\n        plt.tight_layout()\n        plt.show()"
    },
    {
      "cell_type": "markdown",
      "metadata": {},
      "source": "# ## 6. Feature Engineering Insights {#feature-engineering}"
    },
    {
      "cell_type": "code",
      "execution_count": null,
      "metadata": {},
      "outputs": [],
      "source": "# Create derived features for analysis\nif 'lease_start_date' in df.columns and 'lease_end_date' in df.columns:\n    df['lease_duration_days'] = (df['lease_end_date'] - df['lease_start_date']).dt.days\n    \n    plt.figure(figsize=(10, 6))\n    df['lease_duration_days'].hist(bins=30, alpha=0.7)\n    plt.title('Distribution of Lease Duration (Days)')\n    plt.xlabel('Lease Duration (Days)')\n    plt.ylabel('Frequency')\n    plt.grid(True, alpha=0.3)\n    plt.show()\n\n# Risk scoring example\nif all(col in df.columns for col in ['payment_delays_last_6_months', 'maintenance_requests_last_year']):\n    # Create a simple risk score\n    df['risk_score'] = (df['payment_delays_last_6_months'] * 0.6 + \n                       df['maintenance_requests_last_year'] * 0.4)\n    \n    plt.figure(figsize=(10, 6))\n    df['risk_score'].hist(bins=30, alpha=0.7, color='red')\n    plt.title('Distribution of Risk Score')\n    plt.xlabel('Risk Score')\n    plt.ylabel('Frequency')\n    plt.grid(True, alpha=0.3)\n    plt.show()\n    \n    # Risk score vs renewal\n    if 'lease_renewal' in df.columns:\n        plt.figure(figsize=(10, 6))\n        df.boxplot(column='risk_score', by='lease_renewal')\n        plt.title('Risk Score by Lease Renewal Status')\n        plt.suptitle('')  # Remove automatic title\n        plt.xlabel('Lease Renewal (0=Churned, 1=Renewed)')\n        plt.ylabel('Risk Score')\n        plt.show()"
    },
    {
      "cell_type": "markdown",
      "metadata": {},
      "source": "# ## 7. Advanced Visualizations with Plotly {#advanced-viz}"
    },
    {
      "cell_type": "code",
      "execution_count": null,
      "metadata": {},
      "outputs": [],
      "source": "# Interactive scatter plot\nif all(col in df.columns for col in ['monthly_rent', 'payment_delays_last_6_months', 'lease_renewal']):\n    fig = px.scatter(df, x='monthly_rent', y='payment_delays_last_6_months', \n                     color='lease_renewal', \n                     title='Rent vs Payment Delays (Colored by Renewal Status)',\n                     labels={'lease_renewal': 'Lease Renewal'})\n    fig.show()\n\n# 3D scatter plot\nif all(col in df.columns for col in ['monthly_rent', 'payment_delays_last_6_months', 'maintenance_requests_last_year']):\n    fig = px.scatter_3d(df, x='monthly_rent', y='payment_delays_last_6_months', \n                        z='maintenance_requests_last_year',\n                        color='lease_renewal' if 'lease_renewal' in df.columns else None,\n                        title='3D Scatter Plot of Key Features')\n    fig.show()"
    },
    {
      "cell_type": "markdown",
      "metadata": {},
      "source": "# ## 8. Statistical Analysis {#statistical}"
    },
    {
      "cell_type": "code",
      "execution_count": null,
      "metadata": {},
      "outputs": [],
      "source": "# Statistical summary by groups\nif 'lease_renewal' in df.columns:\n    print(\"📊 Statistical Summary by Lease Renewal Status:\")\n    print(\"=\" * 50)\n    \n    for col in numerical_cols:\n        if col != 'lease_renewal':\n            print(f\"\\n{col}:\")\n            print(df.groupby('lease_renewal')[col].describe())\n            \n            # T-test for significant differences\n            churned = df[df['lease_renewal'] == 0][col].dropna()\n            renewed = df[df['lease_renewal'] == 1][col].dropna()\n            \n            if len(churned) > 0 and len(renewed) > 0:\n                t_stat, p_value = stats.ttest_ind(churned, renewed)\n                print(f\"T-test p-value: {p_value:.4f}\")\n                if p_value < 0.05:\n                    print(\"✅ Significant difference between groups\")\n                else:\n                    print(\"❌ No significant difference between groups\")"
    },
    {
      "cell_type": "markdown",
      "metadata": {},
      "source": "# ## 9. Market Insights Analysis {#market-insights}"
    },
    {
      "cell_type": "code",
      "execution_count": null,
      "metadata": {},
      "outputs": [],
      "source": "# Market insights and KPIs\nprint(\"🏘️ Market Insights and KPIs\")\nprint(\"=\" * 40)\n\n# Overall statistics\nif 'monthly_rent' in df.columns:\n    print(f\"\\n💰 Rent Statistics:\")\n    print(f\"Average Rent: ${df['monthly_rent'].mean():,.2f}\")\n    print(f\"Median Rent: ${df['monthly_rent'].median():,.2f}\")\n    print(f\"Rent Range: ${df['monthly_rent'].min():,.2f} - ${df['monthly_rent'].max():,.2f}\")\n    print(f\"Rent Standard Deviation: ${df['monthly_rent'].std():,.2f}\")\n\nif 'lease_renewal' in df.columns:\n    renewal_rate = (df['lease_renewal'].sum() / len(df)) * 100\n    print(f\"\\n📈 Renewal Rate: {renewal_rate:.1f}%\")\n    print(f\"Churn Rate: {100 - renewal_rate:.1f}%\")\n\nif 'payment_delays_last_6_months' in df.columns:\n    avg_delays = df['payment_delays_last_6_months'].mean()\n    print(f\"\\n⏰ Average Payment Delays (6 months): {avg_delays:.2f}\")\n\nif 'maintenance_requests_last_year' in df.columns:\n    avg_maintenance = df['maintenance_requests_last_year'].mean()\n    print(f\"🔧 Average Maintenance Requests (year): {avg_maintenance:.2f}\")\n\n# Property insights\nif 'property_id' in df.columns:\n    unique_properties = df['property_id'].nunique()\n    total_tenants = len(df)\n    avg_tenants_per_property = total_tenants / unique_properties\n    \n    print(f\"\\n🏠 Property Insights:\")\n    print(f\"Total Properties: {unique_properties}\")\n    print(f\"Total Tenants: {total_tenants}\")\n    print(f\"Average Tenants per Property: {avg_tenants_per_property:.2f}\")"
    },
    {
      "cell_type": "markdown",
      "metadata": {},
      "source": "# ## 10. Conclusions and Recommendations {#conclusions}\n# \n# Based on the exploratory data analysis, here are the key findings and recommendations:\n# \n# ### Key Findings:\n# 1. **Data Quality**: [Add observations about data quality]\n# 2. **Distribution Patterns**: [Add observations about feature distributions]\n# 3. **Correlations**: [Add observations about feature relationships]\n# 4. **Time Trends**: [Add observations about temporal patterns]\n# \n# ### Recommendations for Modeling:\n# 1. **Feature Engineering**: [Suggest new features to create]\n# 2. **Data Preprocessing**: [Suggest preprocessing steps]\n# 3. **Model Selection**: [Suggest appropriate models based on data characteristics]\n# 4. **Validation Strategy**: [Suggest cross-validation approach]\n# \n# ### Next Steps:\n# 1. Implement the identified preprocessing steps\n# 2. Create the suggested engineered features\n# 3. Proceed with model training and evaluation\n# 4. Set up monitoring for the identified data quality issues"
    },
    {
      "cell_type": "code",
      "execution_count": null,
      "metadata": {},
      "outputs": [],
      "source": "# Save processed data for modeling\noutput_path = '../data/processed/eda_insights.csv'\ndf.to_csv(output_path, index=False)\nprint(f\"💾 Data with EDA insights saved to {output_path}\")\n\n# Save summary statistics\nsummary_stats = df.describe()\nsummary_stats.to_csv('../data/processed/summary_statistics.csv')\nprint(\"📊 Summary statistics saved\")\n\n# Save correlation matrix\ncorrelation_matrix.to_csv('../data/processed/correlation_matrix.csv')\nprint(\"🔗 Correlation matrix saved\")\n\nprint(\"\\n✅ Exploratory Data Analysis completed!\")\nprint(\"\\n📋 Next Steps:\")\nprint(\"1. Review the findings and insights above\")\nprint(\"2. Proceed to feature engineering notebook\")\nprint(\"3. Run model training pipeline\")\nprint(\"4. Evaluate model performance\")"
    }
  ],
  "metadata": {
    "kernelspec": {
      "display_name": "Python 3",
      "language": "python",
      "name": "python3"
    },
    "language_info": {
      "codemirror_mode": {
        "name": "ipython",
        "version": 3
      },
      "file_extension": ".py",
      "mimetype": "text/x-python",
      "name": "python",
      "nbconvert_exporter": "python",
      "pygments_lexer": "ipython3",
      "version": "3.9.0"
    }
  },
  "nbformat": 4,
  "nbformat_minor": 4
}