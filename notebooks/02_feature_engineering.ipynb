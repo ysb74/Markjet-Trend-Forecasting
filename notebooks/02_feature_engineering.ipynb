{
  "cells": [
    {
      "cell_type": "markdown",
      "metadata": {},
      "source": "# # Feature Engineering for Market Trend Forecasting\n# \n# This notebook focuses on creating and engineering features that will improve our machine learning models' performance.\n# \n# ## Table of Contents\n# 1. [Feature Creation](#feature-creation)\n# 2. [Feature Selection](#feature-selection)\n# 3. [Feature Scaling](#feature-scaling)\n# 4. [Feature Importance Analysis](#feature-importance)\n# 5. [Model Preparation](#model-preparation)"
    },
    {
      "cell_type": "code",
      "execution_count": null,
      "metadata": {},
      "outputs": [],
      "source": "# Import necessary libraries\nimport pandas as pd\nimport numpy as np\nimport matplotlib.pyplot as plt\nimport seaborn as sns\nfrom sklearn.preprocessing import StandardScaler, LabelEncoder, OneHotEncoder\nfrom sklearn.feature_selection import SelectKBest, f_classif, f_regression\nfrom sklearn.ensemble import RandomForestClassifier, RandomForestRegressor\nimport warnings\nwarnings.filterwarnings('ignore')\n\n# Import custom modules\nimport sys\nsys.path.append('../')\n\nfrom src.data.ingestion import load_crm_data_live\nfrom src.data.preprocessing import perform_data_cleaning, handle_outliers\nfrom src.utils.logger import get_logger\n\nlogger = get_logger(__name__)\n\nprint(\"🔧 Feature Engineering libraries imported successfully!\")"
    },
    {
      "cell_type": "markdown",
      "metadata": {},
      "source": "# ## 1. Feature Creation {#feature-creation}"
    },
    {
      "cell_type": "code",
      "execution_count": null,
      "metadata": {},
      "outputs": [],
      "source": "# Load and clean the data\ndf = load_crm_data_live()\ndf_cleaned = perform_data_cleaning(df.copy())\n\nprint(\"📊 Original dataset shape:\", df.shape)\nprint(\"🧹 Cleaned dataset shape:\", df_cleaned.shape)"
    },
    {
      "cell_type": "code",
      "execution_count": null,
      "metadata": {},
      "outputs": [],
      "source": "# Create time-based features\nif 'lease_start_date' in df_cleaned.columns:\n    df_cleaned['lease_start_date'] = pd.to_datetime(df_cleaned['lease_start_date'])\n    \n    # Extract temporal features\n    df_cleaned['lease_start_year'] = df_cleaned['lease_start_date'].dt.year\n    df_cleaned['lease_start_month'] = df_cleaned['lease_start_date'].dt.month\n    df_cleaned['lease_start_quarter'] = df_cleaned['lease_start_date'].dt.quarter\n    df_cleaned['lease_start_dayofweek'] = df_cleaned['lease_start_date'].dt.dayofweek\n    df_cleaned['lease_start_season'] = df_cleaned['lease_start_date'].dt.month.map({\n        12: 'Winter', 1: 'Winter', 2: 'Winter',\n        3: 'Spring', 4: 'Spring', 5: 'Spring',\n        6: 'Summer', 7: 'Summer', 8: 'Summer',\n        9: 'Fall', 10: 'Fall', 11: 'Fall'\n    })\n\nif 'lease_end_date' in df_cleaned.columns:\n    df_cleaned['lease_end_date'] = pd.to_datetime(df_cleaned['lease_end_date'])\n    df_cleaned['lease_duration_days'] = (df_cleaned['lease_end_date'] - df_cleaned['lease_start_date']).dt.days\n    df_cleaned['lease_duration_months'] = df_cleaned['lease_duration_days'] / 30.44\n\nprint(\"⏰ Time-based features created!\")"
    },
    {
      "cell_type": "code",
      "execution_count": null,
      "metadata": {},
      "outputs": [],
      "source": "# Create risk and behavior features\nif all(col in df_cleaned.columns for col in ['payment_delays_last_6_months', 'maintenance_requests_last_year']):\n    # Risk score (weighted combination)\n    df_cleaned['risk_score'] = (\n        df_cleaned['payment_delays_last_6_months'] * 0.6 + \n        df_cleaned['maintenance_requests_last_year'] * 0.4\n    )\n    \n    # Risk categories\n    df_cleaned['risk_category'] = pd.cut(\n        df_cleaned['risk_score'], \n        bins=[0, 1, 3, 10], \n        labels=['Low', 'Medium', 'High']\n    )\n    \n    # Payment reliability\n    df_cleaned['payment_reliability'] = 6 - df_cleaned['payment_delays_last_6_months']\n    df_cleaned['payment_reliability'] = df_cleaned['payment_reliability'].clip(0, 6)\n    \n    # Maintenance frequency\n    df_cleaned['maintenance_frequency'] = df_cleaned['maintenance_requests_last_year'] / 12\n\nprint(\"⚠️ Risk and behavior features created!\")"
    },
    {
      "cell_type": "code",
      "execution_count": null,
      "metadata": {},
      "outputs": [],
      "source": "# Create financial features\nif 'monthly_rent' in df_cleaned.columns:\n    # Rent categories\n    df_cleaned['rent_category'] = pd.cut(\n        df_cleaned['monthly_rent'],\n        bins=[0, 1200, 1800, 2500, float('inf')],\n        labels=['Budget', 'Standard', 'Premium', 'Luxury']\n    )\n    \n    # Rent per day (for lease duration analysis)\n    if 'lease_duration_days' in df_cleaned.columns:\n        df_cleaned['rent_per_day'] = df_cleaned['monthly_rent'] / 30.44\n    \n    # Annual rent\n    df_cleaned['annual_rent'] = df_cleaned['monthly_rent'] * 12\n\nprint(\"💰 Financial features created!\")"
    },
    {
      "cell_type": "code",
      "execution_count": null,
      "metadata": {},
      "outputs": [],
      "source": "# Create interaction features\nif all(col in df_cleaned.columns for col in ['monthly_rent', 'payment_delays_last_6_months']):\n    # Rent-delay interaction\n    df_cleaned['rent_delay_ratio'] = df_cleaned['payment_delays_last_6_months'] / df_cleaned['monthly_rent']\n    \n    # Rent-maintenance interaction\n    if 'maintenance_requests_last_year' in df_cleaned.columns:\n        df_cleaned['rent_maintenance_ratio'] = df_cleaned['maintenance_requests_last_year'] / df_cleaned['monthly_rent']\n\nprint(\"🔄 Interaction features created!\")"
    },
    {
      "cell_type": "markdown",
      "metadata": {},
      "source": "# ## 2. Feature Selection {#feature-selection}"
    },
    {
      "cell_type": "code",
      "execution_count": null,
      "metadata": {},
      "outputs": [],
      "source": "# Prepare features for selection\n# Select numerical features for analysis\nnumerical_features = df_cleaned.select_dtypes(include=[np.number]).columns.tolist()\n\n# Remove target variables if they exist\ntarget_vars = ['lease_renewal']\nfor target in target_vars:\n    if target in numerical_features:\n        numerical_features.remove(target)\n\nprint(f\"📈 Analyzing {len(numerical_features)} numerical features:\")\nprint(numerical_features)"
    },
    {
      "cell_type": "code",
      "execution_count": null,
      "metadata": {},
      "outputs": [],
      "source": "# Feature importance using Random Forest\nif 'lease_renewal' in df_cleaned.columns:\n    # Prepare data\n    X = df_cleaned[numerical_features].fillna(0)\n    y = df_cleaned['lease_renewal']\n    \n    # Train Random Forest for feature importance\n    rf_classifier = RandomForestClassifier(n_estimators=100, random_state=42)\n    rf_classifier.fit(X, y)\n    \n    # Get feature importance\n    feature_importance = pd.DataFrame({\n        'feature': numerical_features,\n        'importance': rf_classifier.feature_importances_\n    }).sort_values('importance', ascending=False)\n    \n    print(\"🎯 Feature Importance (Classification):\")\n    print(feature_importance)\n    \n    # Plot feature importance\n    plt.figure(figsize=(12, 8))\n    sns.barplot(data=feature_importance.head(15), x='importance', y='feature')\n    plt.title('Top 15 Feature Importance for Lease Renewal Prediction')\n    plt.xlabel('Importance')\n    plt.tight_layout()\n    plt.show()"
    },
    {
      "cell_type": "code",
      "execution_count": null,
      "metadata": {},
      "outputs": [],
      "source": "# Feature selection using statistical tests\nif 'lease_renewal' in df_cleaned.columns:\n    # Select top features using ANOVA F-test\n    selector = SelectKBest(score_func=f_classif, k=10)\n    X_selected = selector.fit_transform(X, y)\n    \n    # Get selected feature names\n    selected_features = X.columns[selector.get_support()].tolist()\n    feature_scores = selector.scores_[selector.get_support()]\n    \n    print(\"📊 Top 10 Features (ANOVA F-test):\")\n    for feature, score in zip(selected_features, feature_scores):\n        print(f\"{feature}: {score:.2f}\")"
    },
    {
      "cell_type": "markdown",
      "metadata": {},
      "source": "# ## 3. Feature Scaling {#feature-scaling}"
    },
    {
      "cell_type": "code",
      "execution_count": null,
      "metadata": {},
      "outputs": [],
      "source": "# Prepare features for scaling\nfeatures_to_scale = [\n    'monthly_rent', 'payment_delays_last_6_months', \n    'maintenance_requests_last_year', 'feedback_score',\n    'lease_duration_days', 'risk_score', 'payment_reliability',\n    'maintenance_frequency', 'rent_per_day', 'annual_rent'\n]\n\n# Filter features that exist in the dataset\nfeatures_to_scale = [f for f in features_to_scale if f in df_cleaned.columns]\n\nprint(f\"🔢 Scaling {len(features_to_scale)} features:\")\nprint(features_to_scale)"
    },
    {
      "cell_type": "code",
      "execution_count": null,
      "metadata": {},
      "outputs": [],
      "source": "# Apply StandardScaler\nscaler = StandardScaler()\ndf_scaled = df_cleaned.copy()\n\n# Scale numerical features\ndf_scaled[features_to_scale] = scaler.fit_transform(df_cleaned[features_to_scale])\n\nprint(\"✅ Features scaled successfully!\")"
    },
    {
      "cell_type": "code",
      "execution_count": null,
      "metadata": {},
      "outputs": [],
      "source": "# Verify scaling results\nprint(\"📊 Scaling verification:\")\nfor feature in features_to_scale[:5]:  # Show first 5 features\n    print(f\"{feature}:\")\n    print(f\"  Original - Mean: {df_cleaned[feature].mean():.2f}, Std: {df_cleaned[feature].std():.2f}\")\n    print(f\"  Scaled   - Mean: {df_scaled[feature].mean():.2f}, Std: {df_scaled[feature].std():.2f}\")"
    },
    {
      "cell_type": "markdown",
      "metadata": {},
      "source": "# ## 4. Feature Importance Analysis {#feature-importance}"
    },
    {
      "cell_type": "code",
      "execution_count": null,
      "metadata": {},
      "outputs": [],
      "source": "# Correlation analysis with target\nif 'lease_renewal' in df_scaled.columns:\n    correlations = df_scaled[numerical_features + ['lease_renewal']].corr()['lease_renewal'].abs().sort_values(ascending=False)\n    \n    print(\"🔗 Feature Correlations with Lease Renewal:\")\n    print(correlations)\n    \n    # Plot top correlations\n    plt.figure(figsize=(10, 8))\n    correlations[1:11].plot(kind='bar')  # Exclude lease_renewal itself\n    plt.title('Top 10 Feature Correlations with Lease Renewal')\n    plt.xlabel('Features')\n    plt.ylabel('Absolute Correlation')\n    plt.xticks(rotation=45)\n    plt.tight_layout()\n    plt.show()"
    },
    {
      "cell_type": "code",
      "execution_count": null,
      "metadata": {},
      "outputs": [],
      "source": "# Feature distribution by target\nif 'lease_renewal' in df_scaled.columns:\n    # Select top 6 features for visualization\n    top_features = feature_importance.head(6)['feature'].tolist()\n    \n    fig, axes = plt.subplots(2, 3, figsize=(18, 12))\n    axes = axes.ravel()\n    \n    for i, feature in enumerate(top_features):\n        if i < len(axes):\n            # Box plot by renewal status\n            df_scaled.boxplot(column=feature, by='lease_renewal', ax=axes[i])\n            axes[i].set_title(f'{feature} by Renewal Status')\n            axes[i].set_xlabel('Lease Renewal (0=Churned, 1=Renewed)')\n            axes[i].set_ylabel(feature)\n    \n    plt.suptitle('Feature Distributions by Lease Renewal Status')\n    plt.tight_layout()\n    plt.show()"
    },
    {
      "cell_type": "markdown",
      "metadata": {},
      "source": "# ## 5. Model Preparation {#model-preparation}"
    },
    {
      "cell_type": "code",
      "execution_count": null,
      "metadata": {},
      "outputs": [],
      "source": "# Prepare final feature set for modeling\n# Select the most important features\ntop_features = feature_importance.head(15)['feature'].tolist()\n\n# Add categorical features\ncategorical_features = ['risk_category', 'rent_category', 'lease_start_season']\ncategorical_features = [f for f in categorical_features if f in df_scaled.columns]\n\n# Combine numerical and categorical features\nfinal_features = top_features + categorical_features\n\nprint(f\"🎯 Final feature set ({len(final_features)} features):\")\nprint(final_features)"
    },
    {
      "cell_type": "code",
      "execution_count": null,
      "metadata": {},
      "outputs": [],
      "source": "# Encode categorical features\ndf_final = df_scaled.copy()\n\nfor feature in categorical_features:\n    if feature in df_final.columns:\n        le = LabelEncoder()\n        df_final[f'{feature}_encoded'] = le.fit_transform(df_final[feature].astype(str))\n        print(f\"✅ Encoded {feature}\")"
    },
    {
      "cell_type": "code",
      "execution_count": null,
      "metadata": {},
      "outputs": [],
      "source": "# Create final dataset for modeling\nmodeling_features = [f for f in final_features if f in df_final.columns]\nmodeling_features.extend([f'{f}_encoded' for f in categorical_features if f'{f}_encoded' in df_final.columns])\n\nX_final = df_final[modeling_features].fillna(0)\ny_final = df_final['lease_renewal'] if 'lease_renewal' in df_final.columns else None\n\nprint(f\"📊 Final modeling dataset shape: {X_final.shape}\")\nprint(f\"🎯 Target variable available: {y_final is not None}\")"
    },
    {
      "cell_type": "code",
      "execution_count": null,
      "metadata": {},
      "outputs": [],
      "source": "# Save processed data\noutput_path = '../data/processed/feature_engineered_data.csv'\ndf_final.to_csv(output_path, index=False)\nprint(f\"💾 Feature engineered data saved to {output_path}\")\n\n# Save feature list\nfeature_list_path = '../data/processed/modeling_features.txt'\nwith open(feature_list_path, 'w') as f:\n    f.write('\\n'.join(modeling_features))\nprint(f\"📝 Feature list saved to {feature_list_path}\")\n\n# Save scaler for later use\nimport joblib\nscaler_path = '../deployed_models/feature_scaler.joblib'\njoblib.dump(scaler, scaler_path)\nprint(f\"🔧 Scaler saved to {scaler_path}\")\n\nprint(\"\\n✅ Feature Engineering completed!\")\nprint(\"\\n📋 Summary:\")\nprint(f\"- Created {len(df_final.columns) - len(df.columns)} new features\")\nprint(f\"- Selected {len(modeling_features)} features for modeling\")\nprint(f\"- Scaled {len(features_to_scale)} numerical features\")\nprint(f\"- Encoded {len(categorical_features)} categorical features\")"
    }
  ],
  "metadata": {
    "kernelspec": {
      "display_name": "Python 3",
      "language": "python",
      "name": "python3"
    },
    "language_info": {
      "codemirror_mode": {
        "name": "ipython",
        "version": 3
      },
      "file_extension": ".py",
      "mimetype": "text/x-python",
      "name": "python",
      "nbconvert_exporter": "python",
      "pygments_lexer": "ipython3",
      "version": "3.9.0"
    }
  },
  "nbformat": 4,
  "nbformat_minor": 4
}